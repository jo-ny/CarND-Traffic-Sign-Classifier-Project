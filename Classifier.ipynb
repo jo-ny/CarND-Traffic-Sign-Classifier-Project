{
 "cells": [
  {
   "cell_type": "markdown",
   "metadata": {},
   "source": [
    "# Self-Driving Car Engineer Nanodegree\n",
    "\n",
    "## Deep Learning\n",
    "\n",
    "## Project: Build a Traffic Sign Recognition Classifier\n",
    "\n",
    "In this notebook, a template is provided for you to implement your functionality in stages, which is required to successfully complete this project. If additional code is required that cannot be included in the notebook, be sure that the Python code is successfully imported and included in your submission if necessary. \n",
    "\n",
    "> **Note**: Once you have completed all of the code implementations, you need to finalize your work by exporting the iPython Notebook as an HTML document. Before exporting the notebook to html, all of the code cells need to have been run so that reviewers can see the final implementation and output. You can then export the notebook by using the menu above and navigating to  \\n\",\n",
    "    \"**File -> Download as -> HTML (.html)**. Include the finished document along with this notebook as your submission. \n",
    "\n",
    "In addition to implementing code, there is a writeup to complete. The writeup should be completed in a separate file, which can be either a markdown file or a pdf document. There is a [write up template](https://github.com/udacity/CarND-Traffic-Sign-Classifier-Project/blob/master/writeup_template.md) that can be used to guide the writing process. Completing the code template and writeup template will cover all of the [rubric points](https://review.udacity.com/#!/rubrics/481/view) for this project.\n",
    "\n",
    "The [rubric](https://review.udacity.com/#!/rubrics/481/view) contains \"Stand Out Suggestions\" for enhancing the project beyond the minimum requirements. The stand out suggestions are optional. If you decide to pursue the \"stand out suggestions\", you can include the code in this Ipython notebook and also discuss the results in the writeup file.\n",
    "\n",
    "\n",
    ">**Note:** Code and Markdown cells can be executed using the **Shift + Enter** keyboard shortcut. In addition, Markdown cells can be edited by typically double-clicking the cell to enter edit mode."
   ]
  },
  {
   "cell_type": "markdown",
   "metadata": {},
   "source": [
    "---\n",
    "## Step 0: Load The Data"
   ]
  },
  {
   "cell_type": "code",
   "execution_count": 1,
   "metadata": {
    "collapsed": true
   },
   "outputs": [],
   "source": [
    "# Load pickled data\n",
    "import pickle\n",
    "\n",
    "# TODO: Fill this in based on where you saved the training and testing data\n",
    "\n",
    "training_file = r\"E:\\DataSet\\image\\traffic-signs-data\\train.p\"\n",
    "validation_file=r\"E:\\DataSet\\image\\traffic-signs-data\\valid.p\"\n",
    "testing_file = r\"E:\\DataSet\\image\\traffic-signs-data\\test.p\"\n",
    "\n",
    "with open(training_file, mode='rb') as f:\n",
    "    train = pickle.load(f)\n",
    "with open(validation_file, mode='rb') as f:\n",
    "    valid = pickle.load(f)\n",
    "with open(testing_file, mode='rb') as f:\n",
    "    test = pickle.load(f)\n",
    "    \n",
    "X_train, y_train = train['features'], train['labels']\n",
    "X_valid, y_valid = valid['features'], valid['labels']\n",
    "X_test, y_test = test['features'], test['labels']"
   ]
  },
  {
   "cell_type": "markdown",
   "metadata": {},
   "source": [
    "---\n",
    "\n",
    "## Step 1: Dataset Summary & Exploration\n",
    "\n",
    "The pickled data is a dictionary with 4 key/value pairs:\n",
    "\n",
    "- `'features'` is a 4D array containing raw pixel data of the traffic sign images, (num examples, width, height, channels).\n",
    "- `'labels'` is a 1D array containing the label/class id of the traffic sign. The file `signnames.csv` contains id -> name mappings for each id.\n",
    "- `'sizes'` is a list containing tuples, (width, height) representing the original width and height the image.\n",
    "- `'coords'` is a list containing tuples, (x1, y1, x2, y2) representing coordinates of a bounding box around the sign in the image. **THESE COORDINATES ASSUME THE ORIGINAL IMAGE. THE PICKLED DATA CONTAINS RESIZED VERSIONS (32 by 32) OF THESE IMAGES**\n",
    "\n",
    "Complete the basic data summary below. Use python, numpy and/or pandas methods to calculate the data summary rather than hard coding the results. For example, the [pandas shape method](http://pandas.pydata.org/pandas-docs/stable/generated/pandas.DataFrame.shape.html) might be useful for calculating some of the summary results. "
   ]
  },
  {
   "cell_type": "markdown",
   "metadata": {},
   "source": [
    "### Provide a Basic Summary of the Data Set Using Python, Numpy and/or Pandas"
   ]
  },
  {
   "cell_type": "code",
   "execution_count": 2,
   "metadata": {},
   "outputs": [
    {
     "name": "stdout",
     "output_type": "stream",
     "text": [
      "Number of training examples = 34799\n",
      "Number of validation examples = 4410\n",
      "Number of testing examples = 12630\n",
      "Image data shape = (32, 32, 3)\n",
      "Number of classes = 43\n"
     ]
    }
   ],
   "source": [
    "### Replace each question mark with the appropriate value. \n",
    "### Use python, pandas or numpy methods rather than hard coding the results\n",
    "\n",
    "# TODO: Number of training examples\n",
    "n_train = X_train.shape[0]\n",
    "\n",
    "# TODO: Number of validation examples\n",
    "n_validation = X_valid.shape[0]\n",
    "\n",
    "# TODO: Number of testing examples.\n",
    "n_test = X_test.shape[0]\n",
    "\n",
    "# TODO: What's the shape of an traffic sign image?\n",
    "image_shape = X_train.shape[1:]\n",
    "\n",
    "# TODO: How many unique classes/labels there are in the dataset.\n",
    "n_classes = len(set(y_train ).union(set(y_valid)).union(set(y_test)))\n",
    "\n",
    "print(\"Number of training examples =\", n_train)\n",
    "print(\"Number of validation examples =\", n_validation)\n",
    "print(\"Number of testing examples =\", n_test)\n",
    "print(\"Image data shape =\", image_shape)\n",
    "print(\"Number of classes =\", n_classes)"
   ]
  },
  {
   "cell_type": "markdown",
   "metadata": {},
   "source": [
    "### Include an exploratory visualization of the dataset"
   ]
  },
  {
   "cell_type": "markdown",
   "metadata": {},
   "source": [
    "Visualize the German Traffic Signs Dataset using the pickled file(s). This is open ended, suggestions include: plotting traffic sign images, plotting the count of each sign, etc. \n",
    "\n",
    "The [Matplotlib](http://matplotlib.org/) [examples](http://matplotlib.org/examples/index.html) and [gallery](http://matplotlib.org/gallery.html) pages are a great resource for doing visualizations in Python.\n",
    "\n",
    "**NOTE:** It's recommended you start with something simple first. If you wish to do more, come back to it after you've completed the rest of the sections. It can be interesting to look at the distribution of classes in the training, validation and test set. Is the distribution the same? Are there more examples of some classes than others?"
   ]
  },
  {
   "cell_type": "code",
   "execution_count": 145,
   "metadata": {
    "collapsed": true
   },
   "outputs": [],
   "source": [
    "### Data exploration visualization code goes here.\n",
    "### Feel free to use as many code cells as needed.\n",
    "import os\n",
    "import pickle\n",
    "import random\n",
    "import numpy as np\n",
    "import matplotlib.pyplot as plt\n",
    "# Visualizations will be shown in the notebook.\n",
    "%matplotlib inline"
   ]
  },
  {
   "cell_type": "code",
   "execution_count": 148,
   "metadata": {},
   "outputs": [
    {
     "name": "stdout",
     "output_type": "stream",
     "text": [
      "4\n"
     ]
    },
    {
     "data": {
      "image/png": "[encoded data removed]",
      "text/plain": [
       "<matplotlib.figure.Figure at 0x22710f33e10>"
      ]
     },
     "metadata": {},
     "output_type": "display_data"
    }
   ],
   "source": [
    "# plot a random sing\n",
    "index = random.randint(0, len(X_train))\n",
    "image = X_train[index].squeeze()\n",
    "\n",
    "plt.figure(figsize=(1,1))\n",
    "plt.imshow(image, cmap=\"gray\")\n",
    "plt.savefig(\"./output_images/visualization.jpg\")\n",
    "print(y_train[index])"
   ]
  },
  {
   "cell_type": "code",
   "execution_count": 149,
   "metadata": {},
   "outputs": [
    {
     "data": {
      "image/png": "[encoded data removed]",
      "text/plain": [
       "<matplotlib.figure.Figure at 0x226936c9ba8>"
      ]
     },
     "metadata": {},
     "output_type": "display_data"
    }
   ],
   "source": [
    "import pandas as pd\n",
    "\n",
    "# 汇总所有数据\n",
    "all_data = []\n",
    "all_data.extend(y_train)\n",
    "all_data.extend(y_test)\n",
    "all_data.extend(y_valid)\n",
    "\n",
    "# 所有类别\n",
    "classes = list(set(y_train ).union(set(y_valid)).union(set(y_test)))\n",
    "classes.sort()\n",
    "\n",
    "#类别统计\n",
    "classes_cout = []\n",
    "for i in classes:\n",
    "    classes_cout.append(np.sum(all_data == i))\n",
    "    \n",
    "count_arr =pd.DataFrame(classes_cout,index = [classes])\n",
    "count_arr = count_arr.sort_values(by=0)\n",
    "plt.bar(classes,classes_cout)\n",
    "plt.title(\"dataset_class_count\")\n",
    "plt.savefig(\"./output_images/dataset_class_count.jpg\")\n",
    "plt.show()"
   ]
  },
  {
   "cell_type": "markdown",
   "metadata": {},
   "source": [
    "----\n",
    "\n",
    "## Step 2: Design and Test a Model Architecture\n",
    "\n",
    "Design and implement a deep learning model that learns to recognize traffic signs. Train and test your model on the [German Traffic Sign Dataset](http://benchmark.ini.rub.de/?section=gtsrb&subsection=dataset).\n",
    "\n",
    "The LeNet-5 implementation shown in the [classroom](https://classroom.udacity.com/nanodegrees/nd013/parts/fbf77062-5703-404e-b60c-95b78b2f3f9e/modules/6df7ae49-c61c-4bb2-a23e-6527e69209ec/lessons/601ae704-1035-4287-8b11-e2c2716217ad/concepts/d4aca031-508f-4e0b-b493-e7b706120f81) at the end of the CNN lesson is a solid starting point. You'll have to change the number of classes and possibly the preprocessing, but aside from that it's plug and play! \n",
    "\n",
    "With the LeNet-5 solution from the lecture, you should expect a validation set accuracy of about 0.89. To meet specifications, the validation set accuracy will need to be at least 0.93. It is possible to get an even higher accuracy, but 0.93 is the minimum for a successful project submission. \n",
    "\n",
    "There are various aspects to consider when thinking about this problem:\n",
    "\n",
    "- Neural network architecture (is the network over or underfitting?)\n",
    "- Play around preprocessing techniques (normalization, rgb to grayscale, etc)\n",
    "- Number of examples per label (some have more than others).\n",
    "- Generate fake data.\n",
    "\n",
    "Here is an example of a [published baseline model on this problem](http://yann.lecun.com/exdb/publis/pdf/sermanet-ijcnn-11.pdf). It's not required to be familiar with the approach used in the paper but, it's good practice to try to read papers like these."
   ]
  },
  {
   "cell_type": "markdown",
   "metadata": {},
   "source": [
    "### Pre-process the Data Set (normalization, grayscale, etc.)"
   ]
  },
  {
   "cell_type": "markdown",
   "metadata": {},
   "source": [
    "Minimally, the image data should be normalized so that the data has mean zero and equal variance. For image data, `(pixel - 128)/ 128` is a quick way to approximately normalize the data and can be used in this project. \n",
    "\n",
    "Other pre-processing steps are optional. You can try different techniques to see if it improves performance. \n",
    "\n",
    "Use the code cell (or multiple code cells, if necessary) to implement the first step of your project."
   ]
  },
  {
   "cell_type": "code",
   "execution_count": 5,
   "metadata": {
    "collapsed": true
   },
   "outputs": [],
   "source": [
    "### Preprocess the data here. It is required to normalize the data. Other preprocessing steps could include \n",
    "### converting to grayscale, etc.\n",
    "### Feel free to use as many code cells as needed."
   ]
  },
  {
   "cell_type": "markdown",
   "metadata": {},
   "source": [
    "### Model Architecture"
   ]
  },
  {
   "cell_type": "markdown",
   "metadata": {},
   "source": [
    "### Train, Validate and Test the Model"
   ]
  },
  {
   "cell_type": "markdown",
   "metadata": {},
   "source": [
    "A validation set can be used to assess how well the model is performing. A low accuracy on the training and validation\n",
    "sets imply underfitting. A high accuracy on the training set but low accuracy on the validation set implies overfitting."
   ]
  },
  {
   "cell_type": "code",
   "execution_count": 6,
   "metadata": {
    "collapsed": true
   },
   "outputs": [],
   "source": [
    "### Train your model here.\n",
    "### Calculate and report the accuracy on the training and validation set.\n",
    "### Once a final model architecture is selected, \n",
    "### the accuracy on the test set should be calculated and reported as well.\n",
    "### Feel free to use as many code cells as needed."
   ]
  },
  {
   "cell_type": "code",
   "execution_count": 4,
   "metadata": {},
   "outputs": [],
   "source": [
    "# 引入环境\n",
    "import tensorflow as tf\n",
    "from sklearn.utils import shuffle\n",
    "\n",
    "#训练集总样本数\n",
    "num_examples = train['features'].shape[0]\n",
    "\n",
    "# 对数据集数据类型进行调整\n",
    "X_train.astype(np.float32)\n",
    "X_valid.astype(np.float32)\n",
    "X_test.astype(np.float32)\n",
    "y_train.astype(np.float32)\n",
    "y_valid.astype(np.float32)\n",
    "y_test.astype(np.float32)\n",
    "\n",
    "\n",
    "# 模型结构参数\n",
    "\n",
    "IMAGE_SIZE = 32\n",
    "IMAGE_CHANNELS = 3\n",
    "\n",
    "CONV1_SIZE = 3\n",
    "CONV1_DEEP = 32\n",
    "\n",
    "CONV2_SIZE = 3\n",
    "CONV2_DEEP = 64\n",
    "\n",
    "FC_SIZE_1 = 256\n",
    "\n",
    "FC_SIZE_2 = 125\n",
    "\n",
    "OUTPUT_NODE = 43\n",
    "\n",
    "# 训练参数\n",
    "BATCH_SIZE = 100\n",
    "REGULARIZATION_RATE = 0.001\n",
    "LEARNING_RATE_BASE = 0.001\n",
    "LEARNING_RATE_DECAY = 0.999\n",
    "MOVING_AVERAGE_DECAY = 0.99\n",
    "DROPOUT_RATE = 0.5\n",
    "EPOCHS = 200\n",
    "\n",
    "# 模型文件保存位置\n",
    "MODEL_SAVE_PATH = 'model/'\n",
    "MODEL_NAME = 'trafic_sing_classifier_model'"
   ]
  },
  {
   "cell_type": "code",
   "execution_count": 7,
   "metadata": {
    "collapsed": true
   },
   "outputs": [],
   "source": [
    "# 模型结构\n",
    "# 这里并没有\n",
    "def inference(input_tensor,train,regularizer = None):\n",
    "    with tf.variable_scope('layer1_conv1'):\n",
    "        conv1_weights = tf.get_variable('weight',[CONV1_SIZE,CONV1_SIZE,IMAGE_CHANNELS,CONV1_DEEP],initializer = tf.truncated_normal_initializer(stddev = 0.1))\n",
    "        conv1_biases = tf.get_variable('bias',[CONV1_DEEP],initializer = tf.constant_initializer(0.1))\n",
    "        conv1 = tf.nn.conv2d(input_tensor,conv1_weights,strides = [1,1,1,1],padding = 'SAME')\n",
    "        relu1 = tf.nn.relu(tf.nn.bias_add(conv1,conv1_biases))\n",
    "    \n",
    "    with tf.name_scope('layer2_pool1'):\n",
    "        pool1 = tf.nn.max_pool(relu1,ksize = [1,2,2,1],strides = [1,2,2,1],padding = 'SAME')\n",
    "        \n",
    "    with tf.variable_scope('layer3_conv2'):\n",
    "        conv2_weights = tf.get_variable('weight',[CONV2_SIZE,CONV2_SIZE,CONV1_DEEP,CONV2_DEEP],initializer = tf.truncated_normal_initializer(stddev = 0.1))\n",
    "        conv2_biases = tf.get_variable('bias',[CONV2_DEEP],initializer = tf.constant_initializer(0.1))\n",
    "        conv2 = tf.nn.conv2d(pool1,conv2_weights,strides = [1,1,1,1],padding = 'SAME') \n",
    "        relu2 = tf.nn.relu(tf.nn.bias_add(conv2,conv2_biases))\n",
    "        \n",
    "    with tf.name_scope('layer4_pool2'):\n",
    "        pool2 = tf.nn.max_pool(relu2,ksize = [1,2,2,1],strides = [1,2,2,1],padding = 'SAME')\n",
    "        \n",
    "    pool_shape = pool2.get_shape().as_list()\n",
    "    nodes = pool_shape[1]*pool_shape[2]*pool_shape[3]\n",
    "    \n",
    "    reshaped = tf.reshape(pool2,[-1,nodes])\n",
    "    \n",
    "    with tf.variable_scope('layer5_fc1'):\n",
    "        fc1_weights = tf.get_variable('weight',shape = [nodes,FC_SIZE_1],initializer = tf.truncated_normal_initializer(stddev = 0.1))\n",
    "        fc1_biases = tf.get_variable('bias',shape = [FC_SIZE_1],initializer = tf.constant_initializer(0.1))\n",
    "        fc1 = tf.nn.relu(tf.matmul(reshaped,fc1_weights)+fc1_biases)\n",
    "        if regularizer != None:tf.add_to_collection('losses',regularizer(fc1_weights))\n",
    "        if train:fc1 = tf.nn.dropout(fc1,DROPOUT_RATE)\n",
    "            \n",
    "    with tf.variable_scope('layer6_fc1'):\n",
    "        fc2_weights = tf.get_variable('weight',shape = [FC_SIZE_1,FC_SIZE_2],initializer = tf.truncated_normal_initializer(stddev = 0.1))\n",
    "        fc2_biases = tf.get_variable('bias',shape = [FC_SIZE_2],initializer = tf.constant_initializer(0.1))\n",
    "        fc2 = tf.nn.relu(tf.matmul(fc1,fc2_weights)+fc2_biases)\n",
    "        if regularizer != None:tf.add_to_collection('losses',regularizer(fc2_weights))\n",
    "        if train:fc2 = tf.nn.dropout(fc2,DROPOUT_RATE)\n",
    "    \n",
    "    with tf.variable_scope('layer7_fc3'):\n",
    "        fc3_weights = tf.get_variable('weight',shape = [FC_SIZE_2,OUTPUT_NODE],initializer = tf.truncated_normal_initializer(stddev = 0.1))\n",
    "        fc3_biases = tf.get_variable('bias',shape =[OUTPUT_NODE],initializer = tf.constant_initializer(0.1))\n",
    "        logit = tf.matmul(fc2,fc3_weights)+fc3_biases\n",
    "        if regularizer != None:tf.add_to_collection('losses',regularizer(fc3_weights))\n",
    "        \n",
    "    return logit"
   ]
  },
  {
   "cell_type": "code",
   "execution_count": 5,
   "metadata": {
    "collapsed": true
   },
   "outputs": [],
   "source": [
    "def train(X_train, y_train):\n",
    "    #可以推断\n",
    "    x = tf.placeholder(tf.float32,shape = [None,IMAGE_SIZE,IMAGE_SIZE,IMAGE_CHANNELS],name = 'input_x')\n",
    "    labels = tf.placeholder(tf.int32,shape = [None],name = 'label_y')\n",
    "    y_ = tf.one_hot(labels,depth=43,dtype=tf.float32)\n",
    "\n",
    "    regularizer = tf.contrib.layers.l2_regularizer(REGULARIZATION_RATE)\n",
    "\n",
    "    y = inference(x,train = True,regularizer = regularizer)\n",
    "\n",
    "    cross_entropy = tf.nn.softmax_cross_entropy_with_logits(logits = y,labels = y_)\n",
    "    cross_entropy_mean = tf.reduce_mean(cross_entropy)\n",
    "    \n",
    "    loss = cross_entropy_mean + tf.add_n(tf.get_collection('losses'))\n",
    "    \n",
    "    correct_prediction = tf.equal(tf.argmax(y, 1), tf.argmax(y_, 1))\n",
    "    accuracy_operation = tf.reduce_mean(tf.cast(correct_prediction, tf.float32))\n",
    "\n",
    "    global_step = tf.Variable(0,trainable =False)\n",
    "\n",
    "    exponential_moving_averager = tf.train.ExponentialMovingAverage(MOVING_AVERAGE_DECAY,num_updates = global_step)\n",
    "    exponential_moving_averager_op = exponential_moving_averager.apply(tf.trainable_variables())\n",
    "\n",
    "    learning_rate = tf.train.exponential_decay(LEARNING_RATE_BASE,global_step,num_examples/BATCH_SIZE,LEARNING_RATE_DECAY)\n",
    "    train_step = tf.train.AdamOptimizer(learning_rate).minimize(loss,global_step = global_step)\n",
    "\n",
    "    with tf.control_dependencies([train_step,exponential_moving_averager_op]):\n",
    "        train_op = tf.no_op(name = 'train')\n",
    "\n",
    "    config = tf.ConfigProto(log_device_placement = True)\n",
    "    config.gpu_options.allow_growth = True\n",
    "    with tf.Session(config = config)as sess:\n",
    "        tf.global_variables_initializer().run()\n",
    "        saver = tf.train.Saver()\n",
    "        for i in range(EPOCHS):\n",
    "            X_train, y_train = shuffle(X_train, y_train)\n",
    "            for offset in range(0, num_examples, BATCH_SIZE):\n",
    "                end = offset + BATCH_SIZE\n",
    "                batch_x, batch_y = X_train[offset:end], y_train[offset:end]\n",
    "                _,step = sess.run([train_op,global_step],feed_dict = {x:batch_x,labels:batch_y})\n",
    "                if step % 1000 == 0:\n",
    "                    # 验证集准确率\n",
    "                    accuracy = sess.run(accuracy_operation, feed_dict={x:X_valid, labels: y_valid})\n",
    "                    print('After %d stps, validation accuracy = %f'%(step,accuracy))\n",
    "        \n",
    "        # 保存模型\n",
    "        saver.save(sess,os.path.join(MODEL_SAVE_PATH,MODEL_NAME),global_step = global_step)"
   ]
  },
  {
   "cell_type": "code",
   "execution_count": 6,
   "metadata": {
    "collapsed": true
   },
   "outputs": [],
   "source": [
    "def evaluate(input_images, input_labels):\n",
    "    with tf.Graph().as_default() as g:\n",
    "        images = tf.placeholder(tf.float32,shape = [None,IMAGE_SIZE,IMAGE_SIZE,IMAGE_CHANNELS],name  = \"x\")\n",
    "        labels = tf.placeholder(tf.int32,shape = [None],name = 'label')\n",
    "        y_ = tf.one_hot(labels,depth=OUTPUT_NODE,dtype=tf.float32)\n",
    "        \n",
    "        y = inference(images,train = False,regularizer = None)\n",
    "        \n",
    "        current_prediction = tf.equal(tf.argmax(y,1),tf.argmax(y_,1))\n",
    "        accuracy_rate = tf.reduce_mean(tf.cast(current_prediction,tf.float32))\n",
    "\n",
    "        exponential_moving_averager = tf.train.ExponentialMovingAverage(MOVING_AVERAGE_DECAY)\n",
    "        variable_map = exponential_moving_averager.variables_to_restore()\n",
    "\n",
    "        saver = tf.train.Saver(var_list = variable_map)\n",
    "        config = tf.ConfigProto(log_device_placement = True)\n",
    "        config.gpu_options.allow_growth =True\n",
    "        with tf.Session(config = config) as sess:\n",
    "            tf.global_variables_initializer().run()\n",
    "            ckpt = tf.train.get_checkpoint_state(MODEL_SAVE_PATH)\n",
    "            if ckpt and ckpt.model_checkpoint_path :\n",
    "                saver.restore(sess,ckpt.model_checkpoint_path)\n",
    "                if input_images.shape[0] < 20000:\n",
    "                    accuracy_score = sess.run(accuracy_rate,feed_dict = {images:input_images,labels:input_labels})\n",
    "                else:\n",
    "                    total_accuracy = 0\n",
    "                    for offset in range(0, num_examples, BATCH_SIZE):\n",
    "                        end = offset + BATCH_SIZE\n",
    "                        batch_x, batch_y = X_train[offset:end], y_train[offset:end]\n",
    "                        accuracy = sess.run(accuracy_rate,feed_dict = {images:batch_x,labels:batch_y})\n",
    "                        total_accuracy += (accuracy * len(batch_x))\n",
    "                    accuracy_score = total_accuracy / input_images.shape[0]\n",
    "                global_step = ckpt.model_checkpoint_path.split('/')[-1].split('-')[-1]\n",
    "                print('After %s training steps, accuracy score is %g'%(global_step,accuracy_score))\n",
    "            else:\n",
    "                print('No Model')\n",
    "                \n",
    "    return accuracy_score"
   ]
  },
  {
   "cell_type": "code",
   "execution_count": 10,
   "metadata": {},
   "outputs": [
    {
     "name": "stdout",
     "output_type": "stream",
     "text": [
      "WARNING:tensorflow:From <ipython-input-8-c95e49116c62>:11: softmax_cross_entropy_with_logits (from tensorflow.python.ops.nn_ops) is deprecated and will be removed in a future version.\n",
      "Instructions for updating:\n",
      "\n",
      "Future major versions of TensorFlow will allow gradients to flow\n",
      "into the labels input on backprop by default.\n",
      "\n",
      "See @{tf.nn.softmax_cross_entropy_with_logits_v2}.\n",
      "\n",
      "After 1000 stps, validation accuracy = 0.049433\n",
      "After 2000 stps, validation accuracy = 0.051474\n",
      "After 3000 stps, validation accuracy = 0.048753\n",
      "After 4000 stps, validation accuracy = 0.052154\n",
      "After 5000 stps, validation accuracy = 0.053515\n",
      "After 6000 stps, validation accuracy = 0.056236\n",
      "After 7000 stps, validation accuracy = 0.043991\n",
      "After 8000 stps, validation accuracy = 0.054649\n",
      "After 9000 stps, validation accuracy = 0.707710\n",
      "After 10000 stps, validation accuracy = 0.895011\n",
      "After 11000 stps, validation accuracy = 0.920635\n",
      "After 12000 stps, validation accuracy = 0.919955\n",
      "After 13000 stps, validation accuracy = 0.931973\n",
      "After 14000 stps, validation accuracy = 0.935828\n",
      "After 15000 stps, validation accuracy = 0.934240\n",
      "After 16000 stps, validation accuracy = 0.943537\n",
      "After 17000 stps, validation accuracy = 0.948299\n",
      "After 18000 stps, validation accuracy = 0.939229\n",
      "After 19000 stps, validation accuracy = 0.949206\n",
      "After 20000 stps, validation accuracy = 0.947846\n",
      "After 21000 stps, validation accuracy = 0.943991\n",
      "After 22000 stps, validation accuracy = 0.949887\n",
      "After 23000 stps, validation accuracy = 0.954649\n",
      "After 24000 stps, validation accuracy = 0.948980\n",
      "After 25000 stps, validation accuracy = 0.953968\n",
      "After 26000 stps, validation accuracy = 0.945805\n",
      "After 27000 stps, validation accuracy = 0.951247\n",
      "After 28000 stps, validation accuracy = 0.953741\n",
      "After 29000 stps, validation accuracy = 0.954195\n",
      "After 30000 stps, validation accuracy = 0.942404\n",
      "After 31000 stps, validation accuracy = 0.955102\n",
      "After 32000 stps, validation accuracy = 0.944898\n",
      "After 33000 stps, validation accuracy = 0.954875\n",
      "After 34000 stps, validation accuracy = 0.950340\n",
      "After 35000 stps, validation accuracy = 0.954422\n",
      "After 36000 stps, validation accuracy = 0.945578\n",
      "After 37000 stps, validation accuracy = 0.955102\n",
      "After 38000 stps, validation accuracy = 0.953061\n",
      "After 39000 stps, validation accuracy = 0.958277\n",
      "After 40000 stps, validation accuracy = 0.953515\n",
      "After 41000 stps, validation accuracy = 0.956463\n",
      "After 42000 stps, validation accuracy = 0.948299\n",
      "After 43000 stps, validation accuracy = 0.955782\n",
      "After 44000 stps, validation accuracy = 0.954649\n",
      "After 45000 stps, validation accuracy = 0.957370\n",
      "After 46000 stps, validation accuracy = 0.954422\n",
      "After 47000 stps, validation accuracy = 0.960091\n",
      "After 48000 stps, validation accuracy = 0.955329\n",
      "After 49000 stps, validation accuracy = 0.957596\n",
      "After 50000 stps, validation accuracy = 0.964399\n",
      "After 51000 stps, validation accuracy = 0.958503\n",
      "After 52000 stps, validation accuracy = 0.958503\n",
      "After 53000 stps, validation accuracy = 0.951247\n",
      "After 54000 stps, validation accuracy = 0.961905\n",
      "After 55000 stps, validation accuracy = 0.959184\n",
      "After 56000 stps, validation accuracy = 0.963719\n",
      "After 57000 stps, validation accuracy = 0.957370\n",
      "After 58000 stps, validation accuracy = 0.972789\n",
      "After 59000 stps, validation accuracy = 0.959410\n",
      "After 60000 stps, validation accuracy = 0.957823\n",
      "After 61000 stps, validation accuracy = 0.966440\n",
      "After 62000 stps, validation accuracy = 0.960091\n",
      "After 63000 stps, validation accuracy = 0.958957\n",
      "After 64000 stps, validation accuracy = 0.961451\n",
      "After 65000 stps, validation accuracy = 0.963265\n",
      "After 66000 stps, validation accuracy = 0.950567\n",
      "After 67000 stps, validation accuracy = 0.953061\n",
      "After 68000 stps, validation accuracy = 0.961224\n",
      "After 69000 stps, validation accuracy = 0.959184\n"
     ]
    }
   ],
   "source": [
    "# 使用训练集训练模型，每进行1000步训练，使用验证集查看模型的准确率\n",
    "train(X_train, y_train)"
   ]
  },
  {
   "cell_type": "code",
   "execution_count": 9,
   "metadata": {},
   "outputs": [
    {
     "name": "stdout",
     "output_type": "stream",
     "text": [
      "INFO:tensorflow:Restoring parameters from model/trafic_sing_classifier_model-69600\n",
      "After 69600 training steps, accuracy score is 1\n"
     ]
    },
    {
     "data": {
      "text/plain": [
       "1.0"
      ]
     },
     "execution_count": 9,
     "metadata": {},
     "output_type": "execute_result"
    }
   ],
   "source": [
    "# 使用训练集测试模型\n",
    "evaluate(X_train,y_train)"
   ]
  },
  {
   "cell_type": "code",
   "execution_count": 26,
   "metadata": {},
   "outputs": [
    {
     "name": "stdout",
     "output_type": "stream",
     "text": [
      "INFO:tensorflow:Restoring parameters from model/trafic_sing_classifier_model-69600\n",
      "After 69600 training steps, accuracy score is 0.982766\n"
     ]
    },
    {
     "data": {
      "text/plain": [
       "0.98276645"
      ]
     },
     "execution_count": 26,
     "metadata": {},
     "output_type": "execute_result"
    }
   ],
   "source": [
    "# 使用验证集集测试模型\n",
    "evaluate(X_valid,y_valid)"
   ]
  },
  {
   "cell_type": "code",
   "execution_count": 27,
   "metadata": {},
   "outputs": [
    {
     "name": "stdout",
     "output_type": "stream",
     "text": [
      "INFO:tensorflow:Restoring parameters from model/trafic_sing_classifier_model-69600\n",
      "After 69600 training steps, accuracy score is 0.964766\n"
     ]
    },
    {
     "data": {
      "text/plain": [
       "0.96476644"
      ]
     },
     "execution_count": 27,
     "metadata": {},
     "output_type": "execute_result"
    }
   ],
   "source": [
    "# 使用测试集测试模型\n",
    "evaluate(X_test,y_test)"
   ]
  },
  {
   "cell_type": "markdown",
   "metadata": {},
   "source": [
    "---\n",
    "\n",
    "## Step 3: Test a Model on New Images\n",
    "\n",
    "To give yourself more insight into how your model is working, download at least five pictures of German traffic signs from the web and use your model to predict the traffic sign type.\n",
    "\n",
    "You may find `signnames.csv` useful as it contains mappings from the class id (integer) to the actual sign name."
   ]
  },
  {
   "cell_type": "markdown",
   "metadata": {},
   "source": [
    "### Load and Output the Images"
   ]
  },
  {
   "cell_type": "code",
   "execution_count": 106,
   "metadata": {},
   "outputs": [],
   "source": [
    "### Load the images and plot them here.\n",
    "### Feel free to use as many code cells as needed.\n",
    "import glob\n",
    "from matplotlib.image import imread\n",
    "files = glob.glob(\"./test_images/*\")"
   ]
  },
  {
   "cell_type": "code",
   "execution_count": 107,
   "metadata": {},
   "outputs": [
    {
     "data": {
      "text/plain": [
       "['./test_images\\\\12.png',\n",
       " './test_images\\\\14.jpg',\n",
       " './test_images\\\\23.jpg',\n",
       " './test_images\\\\35.jpg',\n",
       " './test_images\\\\40.jpg']"
      ]
     },
     "execution_count": 107,
     "metadata": {},
     "output_type": "execute_result"
    }
   ],
   "source": [
    "files"
   ]
  },
  {
   "cell_type": "code",
   "execution_count": 108,
   "metadata": {},
   "outputs": [],
   "source": [
    "# 读取数据\n",
    "tmp = []\n",
    "labels = []\n",
    "for i,file_name in enumerate(files):\n",
    "    labels.append(int(file_name.split(\"\\\\\")[-1].split(\".\")[0]))\n",
    "    tmp.append(imread(files[i]))"
   ]
  },
  {
   "cell_type": "code",
   "execution_count": 135,
   "metadata": {},
   "outputs": [
    {
     "data": {
      "image/png": "[encoded data removed]",
      "text/plain": [
       "<matplotlib.figure.Figure at 0x22725a44ef0>"
      ]
     },
     "metadata": {},
     "output_type": "display_data"
    }
   ],
   "source": [
    "# 分别输出五张图片\n",
    "fig,axs = plt.subplots(ncols=len(tmp))\n",
    "for i,ax in enumerate(axs):\n",
    "    ax.imshow(tmp[i])\n",
    "    ax.set_title(labels[i])\n"
   ]
  },
  {
   "cell_type": "code",
   "execution_count": 110,
   "metadata": {},
   "outputs": [
    {
     "data": {
      "text/plain": [
       "(5, 80, 80, 3)"
      ]
     },
     "execution_count": 110,
     "metadata": {},
     "output_type": "execute_result"
    }
   ],
   "source": [
    "# 将读取的文件转换为 np.array\n",
    "images_80 = np.array(tmp)\n",
    "# 其结构为\n",
    "images_80.shape"
   ]
  },
  {
   "cell_type": "code",
   "execution_count": 111,
   "metadata": {
    "collapsed": true
   },
   "outputs": [],
   "source": [
    "# 缩放图像\n",
    "out = []\n",
    "for image in tmp:\n",
    "    out.append(cv2.resize(image,(32,32)))\n",
    "images = np.array(out)"
   ]
  },
  {
   "cell_type": "code",
   "execution_count": 112,
   "metadata": {},
   "outputs": [
    {
     "data": {
      "text/plain": [
       "(5, 32, 32, 3)"
      ]
     },
     "execution_count": 112,
     "metadata": {},
     "output_type": "execute_result"
    }
   ],
   "source": [
    "# 缩放后的结构\n",
    "images.shape"
   ]
  },
  {
   "cell_type": "markdown",
   "metadata": {},
   "source": [
    "### Predict the Sign Type for Each Image"
   ]
  },
  {
   "cell_type": "code",
   "execution_count": null,
   "metadata": {
    "collapsed": true
   },
   "outputs": [],
   "source": [
    "### Run the predictions here and use the model to output the prediction for each image.\n",
    "### Make sure to pre-process the images with the same pre-processing pipeline used earlier.\n",
    "### Feel free to use as many code cells as needed."
   ]
  },
  {
   "cell_type": "code",
   "execution_count": 140,
   "metadata": {
    "collapsed": true
   },
   "outputs": [],
   "source": [
    "def predict(input_images):\n",
    "    with tf.Graph().as_default() as g:\n",
    "        images = tf.placeholder(tf.float32,shape = [None,32,32,3],name  = \"x\")\n",
    "        y = tf.nn.softmax(inference(images,train = False,regularizer = None))\n",
    "        label = tf.argmax(y,1)\n",
    "        exponential_moving_averager = tf.train.ExponentialMovingAverage(MOVING_AVERAGE_DECAY)\n",
    "        variable_map = exponential_moving_averager.variables_to_restore()\n",
    "\n",
    "        saver = tf.train.Saver(var_list = variable_map)\n",
    "        config = tf.ConfigProto(log_device_placement = True)\n",
    "        config.gpu_options.allow_growth =True\n",
    "        with tf.Session(config = config) as sess:\n",
    "            tf.global_variables_initializer().run()\n",
    "            ckpt = tf.train.get_checkpoint_state(MODEL_SAVE_PATH)\n",
    "            if ckpt and ckpt.model_checkpoint_path :\n",
    "                saver.restore(sess,ckpt.model_checkpoint_path)\n",
    "                result = sess.run(label,feed_dict = {images:input_images})\n",
    "                print(result)\n",
    "            else:\n",
    "                print('No Model')"
   ]
  },
  {
   "cell_type": "code",
   "execution_count": 141,
   "metadata": {},
   "outputs": [
    {
     "name": "stdout",
     "output_type": "stream",
     "text": [
      "INFO:tensorflow:Restoring parameters from model/trafic_sing_classifier_model-69600\n",
      "[ 5 14 23 35 40]\n"
     ]
    }
   ],
   "source": [
    "predict(images)"
   ]
  },
  {
   "cell_type": "markdown",
   "metadata": {},
   "source": [
    "### Analyze Performance"
   ]
  },
  {
   "cell_type": "code",
   "execution_count": null,
   "metadata": {
    "collapsed": true
   },
   "outputs": [],
   "source": [
    "### Calculate the accuracy for these 5 new images. \n",
    "### For example, if the model predicted 1 out of 5 signs correctly, it's 20% accurate on these new images."
   ]
  },
  {
   "cell_type": "markdown",
   "metadata": {},
   "source": [
    "The accuracy for these 5 new images is 80%."
   ]
  },
  {
   "cell_type": "markdown",
   "metadata": {},
   "source": [
    "### Output Top 5 Softmax Probabilities For Each Image Found on the Web"
   ]
  },
  {
   "cell_type": "markdown",
   "metadata": {},
   "source": [
    "For each of the new images, print out the model's softmax probabilities to show the **certainty** of the model's predictions (limit the output to the top 5 probabilities for each image). [`tf.nn.top_k`](https://www.tensorflow.org/versions/r0.12/api_docs/python/nn.html#top_k) could prove helpful here. \n",
    "\n",
    "The example below demonstrates how tf.nn.top_k can be used to find the top k predictions for each image.\n",
    "\n",
    "`tf.nn.top_k` will return the values and indices (class ids) of the top k predictions. So if k=3, for each sign, it'll return the 3 largest probabilities (out of a possible 43) and the correspoding class ids.\n",
    "\n",
    "Take this numpy array as an example. The values in the array represent predictions. The array contains softmax probabilities for five candidate images with six possible classes. `tf.nn.top_k` is used to choose the three classes with the highest probability:\n",
    "\n",
    "```\n",
    "# (5, 6) array\n",
    "a = np.array([[ 0.24879643,  0.07032244,  0.12641572,  0.34763842,  0.07893497,\n",
    "         0.12789202],\n",
    "       [ 0.28086119,  0.27569815,  0.08594638,  0.0178669 ,  0.18063401,\n",
    "         0.15899337],\n",
    "       [ 0.26076848,  0.23664738,  0.08020603,  0.07001922,  0.1134371 ,\n",
    "         0.23892179],\n",
    "       [ 0.11943333,  0.29198961,  0.02605103,  0.26234032,  0.1351348 ,\n",
    "         0.16505091],\n",
    "       [ 0.09561176,  0.34396535,  0.0643941 ,  0.16240774,  0.24206137,\n",
    "         0.09155967]])\n",
    "```\n",
    "\n",
    "Running it through `sess.run(tf.nn.top_k(tf.constant(a), k=3))` produces:\n",
    "\n",
    "```\n",
    "TopKV2(values=array([[ 0.34763842,  0.24879643,  0.12789202],\n",
    "       [ 0.28086119,  0.27569815,  0.18063401],\n",
    "       [ 0.26076848,  0.23892179,  0.23664738],\n",
    "       [ 0.29198961,  0.26234032,  0.16505091],\n",
    "       [ 0.34396535,  0.24206137,  0.16240774]]), indices=array([[3, 0, 5],\n",
    "       [0, 1, 4],\n",
    "       [0, 5, 1],\n",
    "       [1, 3, 5],\n",
    "       [1, 4, 3]], dtype=int32))\n",
    "```\n",
    "\n",
    "Looking just at the first row we get `[ 0.34763842,  0.24879643,  0.12789202]`, you can confirm these are the 3 largest probabilities in `a`. You'll also notice `[3, 0, 5]` are the corresponding indices."
   ]
  },
  {
   "cell_type": "code",
   "execution_count": null,
   "metadata": {
    "collapsed": true
   },
   "outputs": [],
   "source": [
    "### Print out the top five softmax probabilities for the predictions on the German traffic sign images found on the web. \n",
    "### Feel free to use as many code cells as needed."
   ]
  },
  {
   "cell_type": "code",
   "execution_count": 142,
   "metadata": {
    "collapsed": true
   },
   "outputs": [],
   "source": [
    "def predic_topK(input_images,top=5):\n",
    "    with tf.Graph().as_default() as g:\n",
    "        images = tf.placeholder(tf.float32,shape = [None,32,32,3],name  = \"x\")\n",
    "        y = tf.nn.softmax(inference(images,train = False,regularizer = None))\n",
    "        exponential_moving_averager = tf.train.ExponentialMovingAverage(MOVING_AVERAGE_DECAY)\n",
    "        variable_map = exponential_moving_averager.variables_to_restore()\n",
    "\n",
    "        saver = tf.train.Saver(var_list = variable_map)\n",
    "        config = tf.ConfigProto(log_device_placement = True)\n",
    "        config.gpu_options.allow_growth =True\n",
    "        with tf.Session(config = config) as sess:\n",
    "            tf.global_variables_initializer().run()\n",
    "            ckpt = tf.train.get_checkpoint_state(MODEL_SAVE_PATH)\n",
    "            if ckpt and ckpt.model_checkpoint_path :\n",
    "                saver.restore(sess,ckpt.model_checkpoint_path)\n",
    "                result = sess.run(y,feed_dict = {images:input_images})\n",
    "                top5 = sess.run(tf.nn.top_k(tf.constant(result), k=5),feed_dict = {images:input_images})\n",
    "                print(top5)\n",
    "            else:\n",
    "                print('No Model')"
   ]
  },
  {
   "cell_type": "code",
   "execution_count": 143,
   "metadata": {
    "scrolled": false
   },
   "outputs": [
    {
     "name": "stdout",
     "output_type": "stream",
     "text": [
      "INFO:tensorflow:Restoring parameters from model/trafic_sing_classifier_model-69600\n",
      "TopKV2(values=array([[1.6424853e-01, 1.3516547e-01, 1.3035488e-01, 7.6115742e-02,\n",
      "        5.8783583e-02],\n",
      "       [1.0000000e+00, 1.7215694e-14, 3.0934524e-15, 2.2953447e-15,\n",
      "        1.9898833e-15],\n",
      "       [1.0000000e+00, 2.7479281e-11, 6.2818539e-12, 2.9067945e-15,\n",
      "        9.1061802e-16],\n",
      "       [1.0000000e+00, 2.6579801e-21, 1.5721165e-23, 1.5108373e-27,\n",
      "        1.2632190e-27],\n",
      "       [1.0000000e+00, 4.0551082e-10, 6.6415602e-11, 3.3695172e-11,\n",
      "        2.3303222e-11]], dtype=float32), indices=array([[ 5,  3, 13,  9,  8],\n",
      "       [14, 16,  5, 29, 11],\n",
      "       [23, 29, 19, 30, 22],\n",
      "       [35, 34, 40, 24, 36],\n",
      "       [40, 35, 34, 42, 33]]))\n"
     ]
    }
   ],
   "source": [
    "predic_topK(images,5)"
   ]
  },
  {
   "cell_type": "markdown",
   "metadata": {},
   "source": [
    "### Project Writeup\n",
    "\n",
    "Once you have completed the code implementation, document your results in a project writeup using this [template](https://github.com/udacity/CarND-Traffic-Sign-Classifier-Project/blob/master/writeup_template.md) as a guide. The writeup can be in a markdown or pdf file. "
   ]
  },
  {
   "cell_type": "markdown",
   "metadata": {},
   "source": [
    "> **Note**: Once you have completed all of the code implementations and successfully answered each question above, you may finalize your work by exporting the iPython Notebook as an HTML document. You can do this by using the menu above and navigating to  \\n\",\n",
    "    \"**File -> Download as -> HTML (.html)**. Include the finished document along with this notebook as your submission."
   ]
  },
  {
   "cell_type": "markdown",
   "metadata": {},
   "source": [
    "---\n",
    "\n",
    "## Step 4 (Optional): Visualize the Neural Network's State with Test Images\n",
    "\n",
    " This Section is not required to complete but acts as an additional excersise for understaning the output of a neural network's weights. While neural networks can be a great learning device they are often referred to as a black box. We can understand what the weights of a neural network look like better by plotting their feature maps. After successfully training your neural network you can see what it's feature maps look like by plotting the output of the network's weight layers in response to a test stimuli image. From these plotted feature maps, it's possible to see what characteristics of an image the network finds interesting. For a sign, maybe the inner network feature maps react with high activation to the sign's boundary outline or to the contrast in the sign's painted symbol.\n",
    "\n",
    " Provided for you below is the function code that allows you to get the visualization output of any tensorflow weight layer you want. The inputs to the function should be a stimuli image, one used during training or a new one you provided, and then the tensorflow variable name that represents the layer's state during the training process, for instance if you wanted to see what the [LeNet lab's](https://classroom.udacity.com/nanodegrees/nd013/parts/fbf77062-5703-404e-b60c-95b78b2f3f9e/modules/6df7ae49-c61c-4bb2-a23e-6527e69209ec/lessons/601ae704-1035-4287-8b11-e2c2716217ad/concepts/d4aca031-508f-4e0b-b493-e7b706120f81) feature maps looked like for it's second convolutional layer you could enter conv2 as the tf_activation variable.\n",
    "\n",
    "For an example of what feature map outputs look like, check out NVIDIA's results in their paper [End-to-End Deep Learning for Self-Driving Cars](https://devblogs.nvidia.com/parallelforall/deep-learning-self-driving-cars/) in the section Visualization of internal CNN State. NVIDIA was able to show that their network's inner weights had high activations to road boundary lines by comparing feature maps from an image with a clear path to one without. Try experimenting with a similar test to show that your trained network's weights are looking for interesting features, whether it's looking at differences in feature maps from images with or without a sign, or even what feature maps look like in a trained network vs a completely untrained one on the same sign image.\n",
    "\n",
    "<figure>\n",
    " <img src=\"visualize_cnn.png\" width=\"380\" alt=\"Combined Image\" />\n",
    " <figcaption>\n",
    " <p></p> \n",
    " <p style=\"text-align: center;\"> Your output should look something like this (above)</p> \n",
    " </figcaption>\n",
    "</figure>\n",
    " <p></p> \n"
   ]
  },
  {
   "cell_type": "code",
   "execution_count": null,
   "metadata": {
    "collapsed": true
   },
   "outputs": [],
   "source": [
    "### Visualize your network's feature maps here.\n",
    "### Feel free to use as many code cells as needed.\n",
    "\n",
    "# image_input: the test image being fed into the network to produce the feature maps\n",
    "# tf_activation: should be a tf variable name used during your training procedure that represents the calculated state of a specific weight layer\n",
    "# activation_min/max: can be used to view the activation contrast in more detail, by default matplot sets min and max to the actual min and max values of the output\n",
    "# plt_num: used to plot out multiple different weight feature map sets on the same block, just extend the plt number for each new feature map entry\n",
    "\n",
    "def outputFeatureMap(image_input, tf_activation, activation_min=-1, activation_max=-1 ,plt_num=1):\n",
    "    # Here make sure to preprocess your image_input in a way your network expects\n",
    "    # with size, normalization, ect if needed\n",
    "    # image_input =\n",
    "    # Note: x should be the same name as your network's tensorflow data placeholder variable\n",
    "    # If you get an error tf_activation is not defined it may be having trouble accessing the variable from inside a function\n",
    "    activation = tf_activation.eval(session=sess,feed_dict={x : image_input})\n",
    "    featuremaps = activation.shape[3]\n",
    "    plt.figure(plt_num, figsize=(15,15))\n",
    "    for featuremap in range(featuremaps):\n",
    "        plt.subplot(6,8, featuremap+1) # sets the number of feature maps to show on each row and column\n",
    "        plt.title('FeatureMap ' + str(featuremap)) # displays the feature map number\n",
    "        if activation_min != -1 & activation_max != -1:\n",
    "            plt.imshow(activation[0,:,:, featuremap], interpolation=\"nearest\", vmin =activation_min, vmax=activation_max, cmap=\"gray\")\n",
    "        elif activation_max != -1:\n",
    "            plt.imshow(activation[0,:,:, featuremap], interpolation=\"nearest\", vmax=activation_max, cmap=\"gray\")\n",
    "        elif activation_min !=-1:\n",
    "            plt.imshow(activation[0,:,:, featuremap], interpolation=\"nearest\", vmin=activation_min, cmap=\"gray\")\n",
    "        else:\n",
    "            plt.imshow(activation[0,:,:, featuremap], interpolation=\"nearest\", cmap=\"gray\")"
   ]
  }
 ],
 "metadata": {
  "anaconda-cloud": {},
  "kernelspec": {
   "display_name": "Python 3.6 root",
   "language": "python",
   "name": "python3"
  },
  "language_info": {
   "codemirror_mode": {
    "name": "ipython",
    "version": 3
   },
   "file_extension": ".py",
   "mimetype": "text/x-python",
   "name": "python",
   "nbconvert_exporter": "python",
   "pygments_lexer": "ipython3",
   "version": "3.6.3"
  }
 },
 "nbformat": 4,
 "nbformat_minor": 1
}
